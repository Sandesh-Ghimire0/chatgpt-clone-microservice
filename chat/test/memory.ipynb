{
 "cells": [
  {
   "cell_type": "code",
   "execution_count": 1,
   "id": "8af8298e",
   "metadata": {},
   "outputs": [
    {
     "data": {
      "text/plain": [
       "True"
      ]
     },
     "execution_count": 1,
     "metadata": {},
     "output_type": "execute_result"
    }
   ],
   "source": [
    "from langgraph.checkpoint.memory import MemorySaver\n",
    "from langchain_google_genai import ChatGoogleGenerativeAI\n",
    "from langchain.prompts import ChatPromptTemplate,MessagesPlaceholder\n",
    "from langgraph.graph import StateGraph,START,END\n",
    "from langgraph.graph.message import AnyMessage,add_messages\n",
    "from typing import Annotated,List\n",
    "from typing_extensions import TypedDict\n",
    "from langgraph.graph.message import RemoveMessage\n",
    "from langgraph.checkpoint.sqlite import SqliteSaver\n",
    "import sqlite3\n",
    "\n",
    "\n",
    "from dotenv import load_dotenv\n",
    "load_dotenv()\n",
    "\n"
   ]
  },
  {
   "cell_type": "code",
   "execution_count": 2,
   "id": "0447ed74",
   "metadata": {},
   "outputs": [],
   "source": [
    "llm = ChatGoogleGenerativeAI(model='gemini-2.0-flash')\n",
    "sqlite_conn = sqlite3.connect(\"chatgpt.sqlite\", check_same_thread=False)\n",
    "memory = SqliteSaver(sqlite_conn)"
   ]
  },
  {
   "cell_type": "code",
   "execution_count": 3,
   "id": "15b9fddb",
   "metadata": {},
   "outputs": [],
   "source": [
    "class State(TypedDict):\n",
    "    messages : Annotated[List[AnyMessage], add_messages]"
   ]
  },
  {
   "cell_type": "code",
   "execution_count": 4,
   "id": "681edc6a",
   "metadata": {},
   "outputs": [],
   "source": [
    "def filter_node(state: State):\n",
    "    # Keep only the last 2 messages\n",
    "    trimmed_msg = [RemoveMessage(id=m.id) for m in state[\"messages\"][:-3]]\n",
    "    return {\"messages\": trimmed_msg}"
   ]
  },
  {
   "cell_type": "code",
   "execution_count": 5,
   "id": "2fe41cd6",
   "metadata": {},
   "outputs": [],
   "source": [
    "def chat_node(state: State):\n",
    "    prompt = ChatPromptTemplate.from_messages(\n",
    "        [\n",
    "            (\"system\",\"you are an assistant\"),\n",
    "            MessagesPlaceholder(\"messages\")\n",
    "        ]\n",
    "    )\n",
    "    chain = prompt | llm\n",
    "    response = [chain.invoke({\"messages\":state['messages']})]\n",
    "\n",
    "    return {\"messages\":response }"
   ]
  },
  {
   "cell_type": "code",
   "execution_count": 6,
   "id": "07065843",
   "metadata": {},
   "outputs": [
    {
     "data": {
      "image/png": "[encoded data removed]",
      "text/plain": [
       "<langgraph.graph.state.CompiledStateGraph object at 0x7e27eb20f800>"
      ]
     },
     "execution_count": 6,
     "metadata": {},
     "output_type": "execute_result"
    }
   ],
   "source": [
    "graph = StateGraph(State)\n",
    "\n",
    "graph.add_node(\"chat_node\",chat_node)\n",
    "graph.add_node(\"filter_node\",filter_node)\n",
    "\n",
    "graph.add_edge(START, \"filter_node\")\n",
    "graph.add_edge(\"filter_node\", \"chat_node\")\n",
    "graph.add_edge(\"chat_node\",END)\n",
    "\n",
    "workflow = graph.compile(checkpointer=memory)\n",
    "workflow"
   ]
  },
  {
   "cell_type": "code",
   "execution_count": 7,
   "id": "659c0ca8",
   "metadata": {},
   "outputs": [],
   "source": [
    "config = {\"configurable\":{'thread_id':1}}"
   ]
  },
  {
   "cell_type": "code",
   "execution_count": 8,
   "id": "be45043a",
   "metadata": {},
   "outputs": [
    {
     "data": {
      "text/plain": [
       "{'messages': [HumanMessage(content='my name is sandesh', additional_kwargs={}, response_metadata={}, id='ce248de2-df2c-4861-b4b2-bee7c8d0ab01'),\n",
       "  AIMessage(content=\"Okay, Sandesh! It's nice to meet you. How can I help you today?\", additional_kwargs={}, response_metadata={'prompt_feedback': {'block_reason': 0, 'safety_ratings': []}, 'finish_reason': 'STOP', 'model_name': 'gemini-2.0-flash', 'safety_ratings': []}, id='run--92ade4b5-d507-4d10-a680-13e795e9ad42-0', usage_metadata={'input_tokens': 9, 'output_tokens': 21, 'total_tokens': 30, 'input_token_details': {'cache_read': 0}})]}"
      ]
     },
     "execution_count": 8,
     "metadata": {},
     "output_type": "execute_result"
    }
   ],
   "source": [
    "input_state = {\"messages\":['my name is sandesh']}\n",
    "response_state = workflow.invoke(input_state, config=config)\n",
    "response_state"
   ]
  },
  {
   "cell_type": "code",
   "execution_count": 9,
   "id": "c039236b",
   "metadata": {},
   "outputs": [
    {
     "data": {
      "text/plain": [
       "{'messages': [HumanMessage(content='my name is sandesh', additional_kwargs={}, response_metadata={}, id='ce248de2-df2c-4861-b4b2-bee7c8d0ab01'),\n",
       "  AIMessage(content=\"Okay, Sandesh! It's nice to meet you. How can I help you today?\", additional_kwargs={}, response_metadata={'prompt_feedback': {'block_reason': 0, 'safety_ratings': []}, 'finish_reason': 'STOP', 'model_name': 'gemini-2.0-flash', 'safety_ratings': []}, id='run--92ade4b5-d507-4d10-a680-13e795e9ad42-0', usage_metadata={'input_tokens': 9, 'output_tokens': 21, 'total_tokens': 30, 'input_token_details': {'cache_read': 0}}),\n",
       "  HumanMessage(content='who am i', additional_kwargs={}, response_metadata={}, id='169d569e-a277-4cb8-b084-34113c47f3da'),\n",
       "  AIMessage(content='You are Sandesh, as you told me.', additional_kwargs={}, response_metadata={'prompt_feedback': {'block_reason': 0, 'safety_ratings': []}, 'finish_reason': 'STOP', 'model_name': 'gemini-2.0-flash', 'safety_ratings': []}, id='run--f39a8796-039b-4f48-80c9-a841c73d91ab-0', usage_metadata={'input_tokens': 32, 'output_tokens': 11, 'total_tokens': 43, 'input_token_details': {'cache_read': 0}})]}"
      ]
     },
     "execution_count": 9,
     "metadata": {},
     "output_type": "execute_result"
    }
   ],
   "source": [
    "input_state = {\"messages\":['who am i']}\n",
    "response_state = workflow.invoke(input_state, config=config)\n",
    "response_state"
   ]
  },
  {
   "cell_type": "code",
   "execution_count": 10,
   "id": "6f57c337",
   "metadata": {},
   "outputs": [
    {
     "name": "stdout",
     "output_type": "stream",
     "text": [
      "StateSnapshot(values={'messages': [HumanMessage(content='my name is sandesh', additional_kwargs={}, response_metadata={}, id='ce248de2-df2c-4861-b4b2-bee7c8d0ab01'), AIMessage(content=\"Okay, Sandesh! It's nice to meet you. How can I help you today?\", additional_kwargs={}, response_metadata={'prompt_feedback': {'block_reason': 0, 'safety_ratings': []}, 'finish_reason': 'STOP', 'model_name': 'gemini-2.0-flash', 'safety_ratings': []}, id='run--92ade4b5-d507-4d10-a680-13e795e9ad42-0', usage_metadata={'input_tokens': 9, 'output_tokens': 21, 'total_tokens': 30, 'input_token_details': {'cache_read': 0}}), HumanMessage(content='who am i', additional_kwargs={}, response_metadata={}, id='169d569e-a277-4cb8-b084-34113c47f3da'), AIMessage(content='You are Sandesh, as you told me.', additional_kwargs={}, response_metadata={'prompt_feedback': {'block_reason': 0, 'safety_ratings': []}, 'finish_reason': 'STOP', 'model_name': 'gemini-2.0-flash', 'safety_ratings': []}, id='run--f39a8796-039b-4f48-80c9-a841c73d91ab-0', usage_metadata={'input_tokens': 32, 'output_tokens': 11, 'total_tokens': 43, 'input_token_details': {'cache_read': 0}})]}, next=(), config={'configurable': {'thread_id': '1', 'checkpoint_ns': '', 'checkpoint_id': '1f0923c8-5992-66f3-8006-d1517e69469e'}}, metadata={'source': 'loop', 'step': 6, 'parents': {}}, created_at='2025-09-15T14:01:48.558487+00:00', parent_config={'configurable': {'thread_id': '1', 'checkpoint_ns': '', 'checkpoint_id': '1f0923c8-522d-6eb6-8005-df76e2c7fb35'}}, tasks=(), interrupts=())\n"
     ]
    }
   ],
   "source": [
    "state = workflow.get_state(config=config)\n",
    "print(state)"
   ]
  },
  {
   "cell_type": "code",
   "execution_count": 11,
   "id": "99c9eda8",
   "metadata": {},
   "outputs": [
    {
     "data": {
      "text/plain": [
       "StateSnapshot(values={}, next=(), config={'configurable': {'thread_id': '1', 'checkpoint_id': '1f090562-512a-6016-8003-5fb58b00f307'}}, metadata=None, created_at=None, parent_config=None, tasks=(), interrupts=())"
      ]
     },
     "execution_count": 11,
     "metadata": {},
     "output_type": "execute_result"
    }
   ],
   "source": [
    "state = workflow.get_state(config={'configurable':{'thread_id':1,'checkpoint_id':'1f090562-512a-6016-8003-5fb58b00f307'}})\n",
    "state"
   ]
  },
  {
   "cell_type": "code",
   "execution_count": 12,
   "id": "40eb6276",
   "metadata": {},
   "outputs": [
    {
     "name": "stdout",
     "output_type": "stream",
     "text": [
      "StateSnapshot(values={'messages': [HumanMessage(content='my name is sandesh', additional_kwargs={}, response_metadata={}, id='ce248de2-df2c-4861-b4b2-bee7c8d0ab01'), AIMessage(content=\"Okay, Sandesh! It's nice to meet you. How can I help you today?\", additional_kwargs={}, response_metadata={'prompt_feedback': {'block_reason': 0, 'safety_ratings': []}, 'finish_reason': 'STOP', 'model_name': 'gemini-2.0-flash', 'safety_ratings': []}, id='run--92ade4b5-d507-4d10-a680-13e795e9ad42-0', usage_metadata={'input_tokens': 9, 'output_tokens': 21, 'total_tokens': 30, 'input_token_details': {'cache_read': 0}}), HumanMessage(content='who am i', additional_kwargs={}, response_metadata={}, id='169d569e-a277-4cb8-b084-34113c47f3da'), AIMessage(content='You are Sandesh, as you told me.', additional_kwargs={}, response_metadata={'prompt_feedback': {'block_reason': 0, 'safety_ratings': []}, 'finish_reason': 'STOP', 'model_name': 'gemini-2.0-flash', 'safety_ratings': []}, id='run--f39a8796-039b-4f48-80c9-a841c73d91ab-0', usage_metadata={'input_tokens': 32, 'output_tokens': 11, 'total_tokens': 43, 'input_token_details': {'cache_read': 0}})]}, next=(), config={'configurable': {'thread_id': '1', 'checkpoint_ns': '', 'checkpoint_id': '1f0923c8-5992-66f3-8006-d1517e69469e'}}, metadata={'source': 'loop', 'step': 6, 'parents': {}}, created_at='2025-09-15T14:01:48.558487+00:00', parent_config={'configurable': {'thread_id': '1', 'checkpoint_ns': '', 'checkpoint_id': '1f0923c8-522d-6eb6-8005-df76e2c7fb35'}}, tasks=(), interrupts=())\n",
      "StateSnapshot(values={'messages': [HumanMessage(content='my name is sandesh', additional_kwargs={}, response_metadata={}, id='ce248de2-df2c-4861-b4b2-bee7c8d0ab01'), AIMessage(content=\"Okay, Sandesh! It's nice to meet you. How can I help you today?\", additional_kwargs={}, response_metadata={'prompt_feedback': {'block_reason': 0, 'safety_ratings': []}, 'finish_reason': 'STOP', 'model_name': 'gemini-2.0-flash', 'safety_ratings': []}, id='run--92ade4b5-d507-4d10-a680-13e795e9ad42-0', usage_metadata={'input_tokens': 9, 'output_tokens': 21, 'total_tokens': 30, 'input_token_details': {'cache_read': 0}}), HumanMessage(content='who am i', additional_kwargs={}, response_metadata={}, id='169d569e-a277-4cb8-b084-34113c47f3da')]}, next=('chat_node',), config={'configurable': {'thread_id': '1', 'checkpoint_ns': '', 'checkpoint_id': '1f0923c8-522d-6eb6-8005-df76e2c7fb35'}}, metadata={'source': 'loop', 'step': 5, 'parents': {}}, created_at='2025-09-15T14:01:47.783282+00:00', parent_config={'configurable': {'thread_id': '1', 'checkpoint_ns': '', 'checkpoint_id': '1f0923c8-5223-6a11-8004-366805a6e638'}}, tasks=(PregelTask(id='db17adbb-a895-2fc0-f0c2-9c36cb35cfd5', name='chat_node', path=('__pregel_pull', 'chat_node'), error=None, interrupts=(), state=None, result={'messages': [AIMessage(content='You are Sandesh, as you told me.', additional_kwargs={}, response_metadata={'prompt_feedback': {'block_reason': 0, 'safety_ratings': []}, 'finish_reason': 'STOP', 'model_name': 'gemini-2.0-flash', 'safety_ratings': []}, id='run--f39a8796-039b-4f48-80c9-a841c73d91ab-0', usage_metadata={'input_tokens': 32, 'output_tokens': 11, 'total_tokens': 43, 'input_token_details': {'cache_read': 0}})]}),), interrupts=())\n",
      "StateSnapshot(values={'messages': [HumanMessage(content='my name is sandesh', additional_kwargs={}, response_metadata={}, id='ce248de2-df2c-4861-b4b2-bee7c8d0ab01'), AIMessage(content=\"Okay, Sandesh! It's nice to meet you. How can I help you today?\", additional_kwargs={}, response_metadata={'prompt_feedback': {'block_reason': 0, 'safety_ratings': []}, 'finish_reason': 'STOP', 'model_name': 'gemini-2.0-flash', 'safety_ratings': []}, id='run--92ade4b5-d507-4d10-a680-13e795e9ad42-0', usage_metadata={'input_tokens': 9, 'output_tokens': 21, 'total_tokens': 30, 'input_token_details': {'cache_read': 0}}), HumanMessage(content='who am i', additional_kwargs={}, response_metadata={}, id='169d569e-a277-4cb8-b084-34113c47f3da')]}, next=('filter_node',), config={'configurable': {'thread_id': '1', 'checkpoint_ns': '', 'checkpoint_id': '1f0923c8-5223-6a11-8004-366805a6e638'}}, metadata={'source': 'loop', 'step': 4, 'parents': {}}, created_at='2025-09-15T14:01:47.779073+00:00', parent_config={'configurable': {'thread_id': '1', 'checkpoint_ns': '', 'checkpoint_id': '1f0923c8-5219-6ee8-8003-8c92cf05f2d3'}}, tasks=(PregelTask(id='ff3b0aa8-050b-744f-bb2e-975e2c74d23d', name='filter_node', path=('__pregel_pull', 'filter_node'), error=None, interrupts=(), state=None, result={'messages': []}),), interrupts=())\n",
      "StateSnapshot(values={'messages': [HumanMessage(content='my name is sandesh', additional_kwargs={}, response_metadata={}, id='ce248de2-df2c-4861-b4b2-bee7c8d0ab01'), AIMessage(content=\"Okay, Sandesh! It's nice to meet you. How can I help you today?\", additional_kwargs={}, response_metadata={'prompt_feedback': {'block_reason': 0, 'safety_ratings': []}, 'finish_reason': 'STOP', 'model_name': 'gemini-2.0-flash', 'safety_ratings': []}, id='run--92ade4b5-d507-4d10-a680-13e795e9ad42-0', usage_metadata={'input_tokens': 9, 'output_tokens': 21, 'total_tokens': 30, 'input_token_details': {'cache_read': 0}})]}, next=('__start__',), config={'configurable': {'thread_id': '1', 'checkpoint_ns': '', 'checkpoint_id': '1f0923c8-5219-6ee8-8003-8c92cf05f2d3'}}, metadata={'source': 'input', 'step': 3, 'parents': {}}, created_at='2025-09-15T14:01:47.775110+00:00', parent_config={'configurable': {'thread_id': '1', 'checkpoint_ns': '', 'checkpoint_id': '1f0923c8-51ca-6ac3-8002-165fa676fbc2'}}, tasks=(PregelTask(id='47e1b1af-ac90-bae4-cc19-88410660f704', name='__start__', path=('__pregel_pull', '__start__'), error=None, interrupts=(), state=None, result={'messages': ['who am i']}),), interrupts=())\n",
      "StateSnapshot(values={'messages': [HumanMessage(content='my name is sandesh', additional_kwargs={}, response_metadata={}, id='ce248de2-df2c-4861-b4b2-bee7c8d0ab01'), AIMessage(content=\"Okay, Sandesh! It's nice to meet you. How can I help you today?\", additional_kwargs={}, response_metadata={'prompt_feedback': {'block_reason': 0, 'safety_ratings': []}, 'finish_reason': 'STOP', 'model_name': 'gemini-2.0-flash', 'safety_ratings': []}, id='run--92ade4b5-d507-4d10-a680-13e795e9ad42-0', usage_metadata={'input_tokens': 9, 'output_tokens': 21, 'total_tokens': 30, 'input_token_details': {'cache_read': 0}})]}, next=(), config={'configurable': {'thread_id': '1', 'checkpoint_ns': '', 'checkpoint_id': '1f0923c8-51ca-6ac3-8002-165fa676fbc2'}}, metadata={'source': 'loop', 'step': 2, 'parents': {}}, created_at='2025-09-15T14:01:47.742645+00:00', parent_config={'configurable': {'thread_id': '1', 'checkpoint_ns': '', 'checkpoint_id': '1f0923c8-3662-6781-8001-b399eb5100ed'}}, tasks=(), interrupts=())\n",
      "StateSnapshot(values={'messages': [HumanMessage(content='my name is sandesh', additional_kwargs={}, response_metadata={}, id='ce248de2-df2c-4861-b4b2-bee7c8d0ab01')]}, next=('chat_node',), config={'configurable': {'thread_id': '1', 'checkpoint_ns': '', 'checkpoint_id': '1f0923c8-3662-6781-8001-b399eb5100ed'}}, metadata={'source': 'loop', 'step': 1, 'parents': {}}, created_at='2025-09-15T14:01:44.868812+00:00', parent_config={'configurable': {'thread_id': '1', 'checkpoint_ns': '', 'checkpoint_id': '1f0923c8-365a-6e01-8000-cdeece2a9838'}}, tasks=(PregelTask(id='fce4c883-bee2-c256-d9b0-26d61f1a2628', name='chat_node', path=('__pregel_pull', 'chat_node'), error=None, interrupts=(), state=None, result={'messages': [AIMessage(content=\"Okay, Sandesh! It's nice to meet you. How can I help you today?\", additional_kwargs={}, response_metadata={'prompt_feedback': {'block_reason': 0, 'safety_ratings': []}, 'finish_reason': 'STOP', 'model_name': 'gemini-2.0-flash', 'safety_ratings': []}, id='run--92ade4b5-d507-4d10-a680-13e795e9ad42-0', usage_metadata={'input_tokens': 9, 'output_tokens': 21, 'total_tokens': 30, 'input_token_details': {'cache_read': 0}})]}),), interrupts=())\n",
      "StateSnapshot(values={'messages': [HumanMessage(content='my name is sandesh', additional_kwargs={}, response_metadata={}, id='ce248de2-df2c-4861-b4b2-bee7c8d0ab01')]}, next=('filter_node',), config={'configurable': {'thread_id': '1', 'checkpoint_ns': '', 'checkpoint_id': '1f0923c8-365a-6e01-8000-cdeece2a9838'}}, metadata={'source': 'loop', 'step': 0, 'parents': {}}, created_at='2025-09-15T14:01:44.865702+00:00', parent_config={'configurable': {'thread_id': '1', 'checkpoint_ns': '', 'checkpoint_id': '1f0923c8-3653-6728-bfff-cb666c29ec98'}}, tasks=(PregelTask(id='d00beec8-40ff-c826-14cc-39cfb826f81c', name='filter_node', path=('__pregel_pull', 'filter_node'), error=None, interrupts=(), state=None, result={'messages': []}),), interrupts=())\n",
      "StateSnapshot(values={'messages': []}, next=('__start__',), config={'configurable': {'thread_id': '1', 'checkpoint_ns': '', 'checkpoint_id': '1f0923c8-3653-6728-bfff-cb666c29ec98'}}, metadata={'source': 'input', 'step': -1, 'parents': {}}, created_at='2025-09-15T14:01:44.862672+00:00', parent_config=None, tasks=(PregelTask(id='e99db7b3-e585-f5dd-b0da-bb0854f238be', name='__start__', path=('__pregel_pull', '__start__'), error=None, interrupts=(), state=None, result={'messages': ['my name is sandesh']}),), interrupts=())\n"
     ]
    }
   ],
   "source": [
    "state_history = workflow.get_state_history(config)\n",
    "for state in state_history:\n",
    "    print(state)"
   ]
  },
  {
   "cell_type": "code",
   "execution_count": 13,
   "id": "fc8fa412",
   "metadata": {},
   "outputs": [
    {
     "data": {
      "text/plain": [
       "{'messages': [HumanMessage(content='who am i', additional_kwargs={}, response_metadata={}, id='169d569e-a277-4cb8-b084-34113c47f3da'),\n",
       "  AIMessage(content='You are Sandesh, as you told me.', additional_kwargs={}, response_metadata={'prompt_feedback': {'block_reason': 0, 'safety_ratings': []}, 'finish_reason': 'STOP', 'model_name': 'gemini-2.0-flash', 'safety_ratings': []}, id='run--f39a8796-039b-4f48-80c9-a841c73d91ab-0', usage_metadata={'input_tokens': 32, 'output_tokens': 11, 'total_tokens': 43, 'input_token_details': {'cache_read': 0}}),\n",
       "  HumanMessage(content='give me some life suggestions', additional_kwargs={}, response_metadata={}, id='d4e804ef-668f-4d45-ae8d-c8f598b60687'),\n",
       "  AIMessage(content=\"Okay, here are a few life suggestions, tailored to be generally helpful and encouraging:\\n\\n**Focusing on Well-being:**\\n\\n*   **Prioritize Sleep:** Aim for 7-9 hours of quality sleep each night. It impacts everything from mood and energy to physical health.\\n*   **Nourish Your Body:** Eat a balanced diet with plenty of fruits, vegetables, and whole foods. Pay attention to how different foods make you feel.\\n*   **Move Your Body:** Find physical activities you enjoy and make them a regular part of your routine. This could be anything from walking and dancing to sports and yoga.\\n*   **Practice Mindfulness:** Even a few minutes of meditation or deep breathing each day can reduce stress and improve focus.\\n*   **Stay Hydrated:** Drink plenty of water throughout the day.\\n\\n**Focusing on Growth and Fulfillment:**\\n\\n*   **Set Meaningful Goals:** Think about what truly matters to you and set goals that align with your values. Break them down into smaller, manageable steps.\\n*   **Embrace Lifelong Learning:** Never stop learning and exploring new things. Read books, take courses, attend workshops, or simply engage in conversations with people who have different perspectives.\\n*   **Cultivate Creativity:** Find ways to express your creativity, whether it's through writing, painting, music, cooking, or any other activity that allows you to tap into your imagination.\\n*   **Step Outside Your Comfort Zone:** Challenge yourself to try new things and take calculated risks. This is where growth happens.\\n*   **Practice Gratitude:** Take time each day to appreciate the good things in your life. This can shift your perspective and increase your overall happiness.\\n\\n**Focusing on Relationships:**\\n\\n*   **Nurture Your Relationships:** Make time for the people who matter most to you. Communicate openly and honestly, and show them you care.\\n*   **Practice Empathy:** Try to understand other people's perspectives, even if you don't agree with them.\\n*   **Set Boundaries:** Learn to say no to things that don't align with your values or drain your energy.\\n*   **Forgive Others (and Yourself):** Holding onto grudges can be detrimental to your well-being. Practice forgiveness to move forward.\\n*   **Seek Support When Needed:** Don't be afraid to ask for help from friends, family, or professionals when you're struggling.\\n\\n**Focusing on Purpose:**\\n\\n*   **Identify Your Values:** What principles are most important to you? Let your values guide your decisions.\\n*   **Find Your Passion:** What activities make you feel energized and fulfilled? Explore ways to incorporate your passions into your life and work.\\n*   **Contribute to Something Larger Than Yourself:** Find ways to make a positive impact on the world, whether it's through volunteering, activism, or simply being a kind and compassionate person.\\n*   **Live Authentically:** Be true to yourself and don't try to be someone you're not.\\n\\n**Important Considerations:**\\n\\n*   **Be Patient:** Change takes time. Don't get discouraged if you don't see results immediately.\\n*   **Be Kind to Yourself:** Treat yourself with the same compassion and understanding that you would offer to a friend.\\n*   **Experiment and Adjust:** What works for one person may not work for another. Be willing to experiment with different approaches and adjust your strategies as needed.\\n*   **Enjoy the Journey:** Life is a journey, not a destination. Focus on the present moment and savor the experiences along the way.\\n\\nUltimately, the best life suggestions are the ones that resonate with you and help you live a more meaningful and fulfilling life. Good luck, Sandesh!\", additional_kwargs={}, response_metadata={'prompt_feedback': {'block_reason': 0, 'safety_ratings': []}, 'finish_reason': 'STOP', 'model_name': 'gemini-2.0-flash', 'safety_ratings': []}, id='run--d3b7db45-ddfc-4e37-b140-c8dccc883205-0', usage_metadata={'input_tokens': 22, 'output_tokens': 770, 'total_tokens': 792, 'input_token_details': {'cache_read': 0}})]}"
      ]
     },
     "execution_count": 13,
     "metadata": {},
     "output_type": "execute_result"
    }
   ],
   "source": [
    "input_state = {\"messages\":['give me some life suggestions']}\n",
    "response_state = workflow.invoke(input_state, config=config)\n",
    "response_state"
   ]
  },
  {
   "cell_type": "code",
   "execution_count": null,
   "id": "4ca7b99f",
   "metadata": {},
   "outputs": [],
   "source": []
  }
 ],
 "metadata": {
  "kernelspec": {
   "display_name": "chat (3.12.3)",
   "language": "python",
   "name": "python3"
  },
  "language_info": {
   "codemirror_mode": {
    "name": "ipython",
    "version": 3
   },
   "file_extension": ".py",
   "mimetype": "text/x-python",
   "name": "python",
   "nbconvert_exporter": "python",
   "pygments_lexer": "ipython3",
   "version": "3.12.3"
  }
 },
 "nbformat": 4,
 "nbformat_minor": 5
}
